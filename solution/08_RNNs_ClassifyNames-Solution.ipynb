{
 "cells": [
  {
   "cell_type": "markdown",
   "metadata": {},
   "source": [
    "# RNN for Classifying Names - Solution"
   ]
  },
  {
   "cell_type": "markdown",
   "metadata": {},
   "source": [
    "Note: This notebook follows in large parts  the notebook from Sean Robertson which you can find here:`<https://github.com/spro/practical-pytorch>`\n",
    "\n",
    "We will be building and training a basic character-level RNN to classify\n",
    "words. A character-level RNN reads words as a series of characters -\n",
    "outputting a prediction and \"hidden state\" at each step, feeding its\n",
    "previous hidden state into each next step. We take the final prediction\n",
    "to be the output, i.e. which class the word belongs to."
   ]
  },
  {
   "cell_type": "markdown",
   "metadata": {},
   "source": [
    "### Preparing the Data\n",
    "\n",
    "Download the data from here\n",
    "   ` <https://download.pytorch.org/tutorial/data.zip>`\n",
    "   and extract it to the `data` directory.\n",
    "\n",
    "Included in the ``data/names`` directory are 18 text files named as\n",
    "``[Language].txt``. Each file contains a bunch of names, one name per\n",
    "line, mostly romanized (but we still need to convert from Unicode to\n",
    "ASCII)."
   ]
  },
  {
   "cell_type": "markdown",
   "metadata": {},
   "source": [
    "We first get all the filenames:"
   ]
  },
  {
   "cell_type": "code",
   "execution_count": 1,
   "metadata": {},
   "outputs": [
    {
     "name": "stdout",
     "output_type": "stream",
     "text": [
      "['../data/names/Czech.txt', '../data/names/German.txt', '../data/names/Arabic.txt', '../data/names/Japanese.txt', '../data/names/Chinese.txt', '../data/names/Vietnamese.txt', '../data/names/Russian.txt', '../data/names/French.txt', '../data/names/Irish.txt', '../data/names/English.txt', '../data/names/Spanish.txt', '../data/names/Greek.txt', '../data/names/Italian.txt', '../data/names/Portuguese.txt', '../data/names/Scottish.txt', '../data/names/Dutch.txt', '../data/names/Korean.txt', '../data/names/Polish.txt']\n"
     ]
    }
   ],
   "source": [
    "import glob\n",
    "filenames = glob.glob('../data/names/*.txt')\n",
    "\n",
    "print(filenames)"
   ]
  },
  {
   "cell_type": "markdown",
   "metadata": {},
   "source": [
    "And save each language as a category:"
   ]
  },
  {
   "cell_type": "code",
   "execution_count": 2,
   "metadata": {},
   "outputs": [
    {
     "name": "stdout",
     "output_type": "stream",
     "text": [
      "['Czech', 'German', 'Arabic', 'Japanese', 'Chinese', 'Vietnamese', 'Russian', 'French', 'Irish', 'English', 'Spanish', 'Greek', 'Italian', 'Portuguese', 'Scottish', 'Dutch', 'Korean', 'Polish']\n"
     ]
    }
   ],
   "source": [
    "import os\n",
    "all_categories = []\n",
    "\n",
    "\n",
    "for filename in filenames:\n",
    "    language = os.path.splitext(os.path.basename(filename))[0]\n",
    "    all_categories.append(language)\n",
    "\n",
    "print(all_categories)"
   ]
  },
  {
   "cell_type": "markdown",
   "metadata": {},
   "source": [
    "Next we load the data and put every name in a list together and its category (=label) in a second list:"
   ]
  },
  {
   "cell_type": "code",
   "execution_count": 3,
   "metadata": {},
   "outputs": [
    {
     "data": {
      "text/plain": [
       "(18, 20074)"
      ]
     },
     "execution_count": 3,
     "metadata": {},
     "output_type": "execute_result"
    }
   ],
   "source": [
    "X = []\n",
    "y = []\n",
    "\n",
    "\n",
    "for index, filename in enumerate(filenames):\n",
    "    lines = open(filename, encoding='utf-8').read().strip().split('\\n')\n",
    "    category = all_categories[index]\n",
    "    for line in lines:\n",
    "        X.append(line)\n",
    "        y.append(category)\n",
    "\n",
    "n_categories = len(all_categories)\n",
    "n_categories, len(X)"
   ]
  },
  {
   "cell_type": "code",
   "execution_count": 4,
   "metadata": {},
   "outputs": [
    {
     "name": "stdout",
     "output_type": "stream",
     "text": [
      "{'\\xa0', \"'\", 'ł', 'p', 'b', '-', 'q', 'r', 'K', 'ä', 'D', 'n', 'ì', 'ê', 'o', 'W', 'E', 'k', 'a', 'C', 'w', 'M', 'i', 'ã', 'J', 'É', 'S', 'ò', 'ż', 'õ', '/', 'h', 'Q', 'e', 'O', 'á', ':', 'ó', 'ü', 'Á', '1', 'ń', 'R', 'A', 'ß', 'ú', 'P', 'G', 'ù', 'H', ',', 'I', ' ', 'à', 't', 'ą', 'é', 'X', 'Ż', 's', 'B', 'x', 'l', 'V', 'f', 'Y', 'ç', 'T', 'y', 'm', 'í', 'z', 'U', 'd', 'è', 'v', 'L', 'ñ', 'Z', 'g', 'j', 'Ś', 'c', 'N', 'u', 'ö', 'F'}\n",
      "87 characters\n"
     ]
    }
   ],
   "source": [
    "all_characters = set([c for name in X for c in name])\n",
    "all_characters = set([c for name in X for c in name])\n",
    "print(all_characters)\n",
    "print(len(all_characters), \"characters\")"
   ]
  },
  {
   "cell_type": "markdown",
   "metadata": {},
   "source": [
    "We see that the files contain many special characters that make our problem more difficult. To reduce the character count, we only allow ASCII symbols:"
   ]
  },
  {
   "cell_type": "code",
   "execution_count": 5,
   "metadata": {
    "scrolled": true
   },
   "outputs": [
    {
     "name": "stdout",
     "output_type": "stream",
     "text": [
      "Vocab is of size 52 and contains: abcdefghijklmnopqrstuvwxyzABCDEFGHIJKLMNOPQRSTUVWXYZ\n"
     ]
    }
   ],
   "source": [
    "import string\n",
    "\n",
    "# these is the vocabulary we will use\n",
    "all_letters = string.ascii_letters\n",
    "n_letters = len(all_letters)\n",
    "\n",
    "print(f\"Vocab is of size {n_letters} and contains:\", all_letters)"
   ]
  },
  {
   "cell_type": "code",
   "execution_count": 6,
   "metadata": {},
   "outputs": [
    {
     "name": "stdout",
     "output_type": "stream",
     "text": [
      "Slusarski\n",
      "Fruhling\n"
     ]
    }
   ],
   "source": [
    "import unicodedata\n",
    "\n",
    "# this method converts anything into ascii\n",
    "def unicodeToAscii(s):\n",
    "    return ''.join(\n",
    "        c for c in unicodedata.normalize('NFD', s)\n",
    "        if unicodedata.category(c) != 'Mn'\n",
    "        and c in all_letters\n",
    "    )\n",
    "\n",
    "print(unicodeToAscii('Ślusàrski'))\n",
    "print(unicodeToAscii('Frühling'))"
   ]
  },
  {
   "cell_type": "code",
   "execution_count": 7,
   "metadata": {},
   "outputs": [
    {
     "name": "stdout",
     "output_type": "stream",
     "text": [
      "{'k', 'f', 'Y', 'a', 'C', 'p', 'w', 'T', 'M', 'P', 'y', 'm', 'b', 'G', 'i', 'R', 'H', 'J', 'I', 'S', 'z', 'q', 'r', 'U', 'd', 't', 'v', 'L', 'K', 'Z', 'g', 'h', 'D', 'Q', 'n', 'j', 'e', 'c', 'O', 'N', 'X', 'u', 'o', 'W', 's', 'F', 'B', 'E', 'x', 'A', 'l', 'V'}\n",
      "52 characters\n"
     ]
    }
   ],
   "source": [
    "# convert all letters to ascii\n",
    "X = [unicodeToAscii(x) for x in X]\n",
    "\n",
    "# print again all characters\n",
    "all_characters = set([c for name in X for c in name])\n",
    "print(all_characters)\n",
    "print(len(all_characters), \"characters\")"
   ]
  },
  {
   "cell_type": "markdown",
   "metadata": {},
   "source": [
    "We can see that we successfully reduced the number of characters and can now divide the data into train and test data:"
   ]
  },
  {
   "cell_type": "code",
   "execution_count": 8,
   "metadata": {},
   "outputs": [
    {
     "name": "stdout",
     "output_type": "stream",
     "text": [
      "Train data points: 16059\n"
     ]
    }
   ],
   "source": [
    "from sklearn.model_selection import train_test_split\n",
    "\n",
    "X_train, X_test, y_train, y_test = train_test_split(X, y, test_size=0.2, random_state=0)\n",
    "\n",
    "print(\"Train data points:\", len(X_train))"
   ]
  },
  {
   "cell_type": "markdown",
   "metadata": {},
   "source": [
    "Turning Names into Tensors\n",
    "--------------------------"
   ]
  },
  {
   "cell_type": "code",
   "execution_count": 9,
   "metadata": {},
   "outputs": [
    {
     "name": "stdout",
     "output_type": "stream",
     "text": [
      "tensor([[0., 0., 0., 0., 0., 0., 0., 0., 0., 0., 0., 0., 0., 0., 0., 0., 0., 0.,\n",
      "         0., 0., 0., 0., 0., 0., 0., 0., 0., 0., 0., 0., 0., 0., 0., 0., 0., 1.,\n",
      "         0., 0., 0., 0., 0., 0., 0., 0., 0., 0., 0., 0., 0., 0., 0., 0.]])\n"
     ]
    }
   ],
   "source": [
    "import torch\n",
    "\n",
    "def letterToTensor(letter):\n",
    "    tensor = torch.zeros(1, n_letters)\n",
    "    index = all_letters.find(letter)\n",
    "    tensor[0][index] = 1\n",
    "    return tensor\n",
    "\n",
    "print(letterToTensor('J'))"
   ]
  },
  {
   "cell_type": "code",
   "execution_count": 10,
   "metadata": {},
   "outputs": [
    {
     "data": {
      "text/plain": [
       "tensor([16])"
      ]
     },
     "execution_count": 10,
     "metadata": {},
     "output_type": "execute_result"
    }
   ],
   "source": [
    "def categoryToTensor(category):\n",
    "    index = all_categories.index(category)\n",
    "    return torch.tensor([index], dtype=torch.long)\n",
    "\n",
    "categoryToTensor(\"Korean\")"
   ]
  },
  {
   "cell_type": "markdown",
   "metadata": {},
   "source": [
    "Creating the Network\n",
    "====================\n",
    "\n",
    "Before autograd, creating a recurrent neural network in Torch involved\n",
    "cloning the parameters of a layer over several timesteps. The layers\n",
    "held hidden state and gradients which are now entirely handled by the\n",
    "graph itself. This means you can implement a RNN in a very \"pure\" way,\n",
    "as regular feed-forward layers.\n",
    "\n",
    "This RNN module is just 2 linear layers which operate on an input and hidden state, with\n",
    "a LogSoftmax layer after the output.\n",
    "You can see the architecture here: https://i.imgur.com/Z2xbySO.png"
   ]
  },
  {
   "cell_type": "code",
   "execution_count": 11,
   "metadata": {},
   "outputs": [],
   "source": [
    "import torch.nn as nn\n",
    "\n",
    "class RNN(nn.Module):\n",
    "    def __init__(self, input_size, output_size):\n",
    "        super(RNN, self).__init__()\n",
    "\n",
    "        self.hidden_size = 128 # number of hidden layer size\n",
    "\n",
    "        self.i2h = nn.Linear(input_size + self.hidden_size, self.hidden_size)\n",
    "        self.i2o = nn.Linear(input_size + self.hidden_size, output_size)\n",
    "\n",
    "    def forward(self, x, hidden):\n",
    "        combined = torch.cat((x, hidden), 1)\n",
    "        hidden = self.i2h(combined)\n",
    "        output = self.i2o(combined)\n",
    "        return output, hidden\n",
    "\n",
    "    def initHidden(self):\n",
    "        return torch.zeros(1, self.hidden_size)"
   ]
  },
  {
   "cell_type": "markdown",
   "metadata": {},
   "source": [
    "To run a step of this network we need to pass an input (in our case, the\n",
    "Tensor for the current letter) and a previous hidden state (which we\n",
    "initialize as zeros at first). We'll get back the output (probability of\n",
    "each language) and a next hidden state (which we keep for the next\n",
    "step).\n",
    "\n",
    "\n"
   ]
  },
  {
   "cell_type": "code",
   "execution_count": 12,
   "metadata": {},
   "outputs": [
    {
     "name": "stdout",
     "output_type": "stream",
     "text": [
      "tensor([[0.0607, 0.0487, 0.0589, 0.0532, 0.0551, 0.0547, 0.0553, 0.0526, 0.0515,\n",
      "         0.0562, 0.0613, 0.0571, 0.0572, 0.0568, 0.0560, 0.0536, 0.0576, 0.0535]],\n",
      "       grad_fn=<SoftmaxBackward0>)\n"
     ]
    }
   ],
   "source": [
    "rnn = RNN(n_letters, n_categories)\n",
    "\n",
    "x = letterToTensor('A')\n",
    "hidden = rnn.initHidden()\n",
    "\n",
    "output, next_hidden = rnn(x, hidden)\n",
    "print(torch.softmax(output, 1))"
   ]
  },
  {
   "cell_type": "markdown",
   "metadata": {},
   "source": [
    "As you can see the output is a ``<1 x n_categories>`` Tensor, where\n",
    "every item is the likelihood of that category (higher is more likely).\n",
    "\n",
    "\n"
   ]
  },
  {
   "cell_type": "markdown",
   "metadata": {},
   "source": [
    "Training the Network\n",
    "--------------------\n",
    "\n",
    "Now all it takes to train this network is show it a bunch of examples,\n",
    "have it make guesses, and tell it if it's wrong."
   ]
  },
  {
   "cell_type": "markdown",
   "metadata": {},
   "source": [
    "Now we just have to run that with a bunch of examples. Since the\n",
    "``train`` function returns both the output and loss we can print its\n",
    "guesses and also keep track of loss for plotting. Since there are 1000s\n",
    "of examples we print only every ``print_every`` examples, and take an\n",
    "average of the loss.\n",
    "\n",
    "\n"
   ]
  },
  {
   "cell_type": "code",
   "execution_count": 13,
   "metadata": {},
   "outputs": [
    {
     "name": "stdout",
     "output_type": "stream",
     "text": [
      "Loss in epoch 1 is 1.4276229482019265\n",
      "Loss in epoch 2 is 1.1240797780986531\n",
      "Loss in epoch 3 is 1.0185234446535627\n",
      "Loss in epoch 4 is 0.9561899169796811\n",
      "Loss in epoch 5 is 0.916973643004709\n",
      "Loss in epoch 6 is 0.8886703785108332\n",
      "Loss in epoch 7 is 0.8663823815844733\n",
      "Loss in epoch 8 is 0.8511050800604191\n",
      "Loss in epoch 9 is 0.8363634343853128\n"
     ]
    }
   ],
   "source": [
    "import math\n",
    "\n",
    "rnn = RNN(n_letters, n_categories)\n",
    "\n",
    "# Keep track of losses for plotting\n",
    "current_loss = 0\n",
    "all_losses = []\n",
    "\n",
    "criterion = nn.CrossEntropyLoss()\n",
    "optimizer = torch.optim.SGD(rnn.parameters(), lr=0.005)\n",
    "\n",
    "for epoch in range(1, 10):\n",
    "    \n",
    "    for i in range(0, len(X_train)):\n",
    "        hidden = rnn.initHidden()\n",
    "        optimizer.zero_grad()\n",
    "        \n",
    "        name = X_train[i] # Baarle\n",
    "        for c in name:\n",
    "            x = letterToTensor(c)\n",
    "            output, hidden = rnn(x, hidden)\n",
    "\n",
    "        category = y_train[i] # Dutch\n",
    "        category_tensor = categoryToTensor(category)\n",
    "        \n",
    "        loss = criterion(output, category_tensor)\n",
    "        loss.backward()\n",
    "    \n",
    "        optimizer.step()\n",
    "    \n",
    "        current_loss += loss.item()\n",
    "\n",
    "    all_losses.append(current_loss)\n",
    "    print(f\"Loss in epoch {epoch} is {current_loss/len(X_train)}\")\n",
    "    current_loss = 0"
   ]
  },
  {
   "cell_type": "markdown",
   "metadata": {},
   "source": [
    "Plotting the Results\n",
    "--------------------\n",
    "\n",
    "Plotting the historical loss from ``all_losses`` shows the network\n",
    "learning:\n",
    "\n",
    "\n"
   ]
  },
  {
   "cell_type": "code",
   "execution_count": 14,
   "metadata": {},
   "outputs": [
    {
     "data": {
      "text/plain": [
       "[<matplotlib.lines.Line2D at 0x7fce305b11f0>]"
      ]
     },
     "execution_count": 14,
     "metadata": {},
     "output_type": "execute_result"
    },
    {
     "data": {
      "image/png": "[encoded data removed]",
      "text/plain": [
       "<Figure size 640x480 with 1 Axes>"
      ]
     },
     "metadata": {},
     "output_type": "display_data"
    }
   ],
   "source": [
    "import matplotlib.pyplot as plt\n",
    "import matplotlib.ticker as ticker\n",
    "\n",
    "plt.figure()\n",
    "plt.plot(all_losses)"
   ]
  },
  {
   "cell_type": "markdown",
   "metadata": {},
   "source": [
    "### Evaluating the Results"
   ]
  },
  {
   "cell_type": "code",
   "execution_count": 15,
   "metadata": {},
   "outputs": [
    {
     "name": "stdout",
     "output_type": "stream",
     "text": [
      "Accuracy:  0.7469489414694894\n"
     ]
    }
   ],
   "source": [
    "correct = 0\n",
    "for i in range(0, len(X_test)):\n",
    "    hidden = rnn.initHidden()\n",
    "    \n",
    "    name = X_test[i]\n",
    "    \n",
    "    for c in name:\n",
    "        x = letterToTensor(c)\n",
    "        output, hidden = rnn(x, hidden)\n",
    "    \n",
    "    prediction = torch.argmax(output, 1).item()\n",
    "    \n",
    "    category = y_test[i]\n",
    "    category_index = all_categories.index(category)\n",
    "    \n",
    "    if category_index == prediction:\n",
    "        correct += 1\n",
    "    \n",
    "print(\"Accuracy: \", correct/len(X_test))   "
   ]
  },
  {
   "cell_type": "markdown",
   "metadata": {},
   "source": [
    "Running on User Input\n",
    "---------------------\n",
    "\n",
    "\n"
   ]
  },
  {
   "cell_type": "code",
   "execution_count": 16,
   "metadata": {},
   "outputs": [
    {
     "name": "stdout",
     "output_type": "stream",
     "text": [
      "\n",
      "> Dovesky\n",
      "(0.91) Russian\n",
      "(0.04) English\n",
      "(0.03) Czech\n",
      "(0.01) Polish\n",
      "(0.00) Greek\n",
      "\n",
      "> Jackson\n",
      "(0.62) English\n",
      "(0.22) Russian\n",
      "(0.05) Scottish\n",
      "(0.02) Czech\n",
      "(0.02) French\n",
      "\n",
      "> Satoshi\n",
      "(0.49) Japanese\n",
      "(0.11) Arabic\n",
      "(0.10) Russian\n",
      "(0.07) Italian\n",
      "(0.07) Polish\n"
     ]
    }
   ],
   "source": [
    "def predict(input_line, n_predictions=5):\n",
    "    print('\\n> %s' % input_line)\n",
    "    \n",
    "    hidden = rnn.initHidden()\n",
    "\n",
    "    for c in input_line:\n",
    "        x = letterToTensor(c)\n",
    "        output, hidden = rnn(x, hidden)\n",
    "\n",
    "    # Get top N categories\n",
    "    output = torch.softmax(output, 1)\n",
    "    topv, topi = output.topk(n_predictions, 1, True)\n",
    "    for i in range(n_predictions):\n",
    "        value = topv[0][i].item()\n",
    "        category_index = topi[0][i].item()\n",
    "        print('(%.2f) %s' % (value, all_categories[category_index]))\n",
    "\n",
    "predict('Dovesky')\n",
    "predict('Jackson')\n",
    "predict('Satoshi')"
   ]
  },
  {
   "cell_type": "code",
   "execution_count": null,
   "metadata": {},
   "outputs": [],
   "source": []
  }
 ],
 "metadata": {
  "kernelspec": {
   "display_name": "Python 3 (ipykernel)",
   "language": "python",
   "name": "python3"
  },
  "language_info": {
   "codemirror_mode": {
    "name": "ipython",
    "version": 3
   },
   "file_extension": ".py",
   "mimetype": "text/x-python",
   "name": "python",
   "nbconvert_exporter": "python",
   "pygments_lexer": "ipython3",
   "version": "3.8.19"
  }
 },
 "nbformat": 4,
 "nbformat_minor": 4
}
