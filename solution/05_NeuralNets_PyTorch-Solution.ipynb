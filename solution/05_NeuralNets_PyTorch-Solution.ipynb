{
 "cells": [
  {
   "cell_type": "markdown",
   "metadata": {},
   "source": [
    "# 5. Neural Networks with PyTorch"
   ]
  },
  {
   "cell_type": "markdown",
   "metadata": {},
   "source": [
    "### 1. Prepare data"
   ]
  },
  {
   "cell_type": "code",
   "execution_count": 1,
   "metadata": {},
   "outputs": [],
   "source": [
    "import pandas as pd"
   ]
  },
  {
   "cell_type": "code",
   "execution_count": 2,
   "metadata": {},
   "outputs": [],
   "source": [
    "df = pd.read_csv(\"../data/titanic.csv\")\n",
    "cols = [\"Pclass\", \"Sex\", \"Age\", \"SibSp\", \"Parch\", \"Fare\", \"Embarked\", \"Survived\"]\n",
    "df = df[cols]\n",
    "df = df.dropna()"
   ]
  },
  {
   "cell_type": "code",
   "execution_count": 3,
   "metadata": {},
   "outputs": [],
   "source": [
    "X = df.drop(\"Survived\", axis=1)\n",
    "X = pd.get_dummies(X, columns=[\"Sex\", \"Embarked\"], dtype=float) \n",
    "y = df[\"Survived\"]"
   ]
  },
  {
   "cell_type": "code",
   "execution_count": 4,
   "metadata": {},
   "outputs": [
    {
     "data": {
      "text/plain": [
       "Pclass          int64\n",
       "Age           float64\n",
       "SibSp           int64\n",
       "Parch           int64\n",
       "Fare          float64\n",
       "Sex_female    float64\n",
       "Sex_male      float64\n",
       "Embarked_C    float64\n",
       "Embarked_Q    float64\n",
       "Embarked_S    float64\n",
       "dtype: object"
      ]
     },
     "execution_count": 4,
     "metadata": {},
     "output_type": "execute_result"
    }
   ],
   "source": [
    "X.dtypes"
   ]
  },
  {
   "cell_type": "code",
   "execution_count": 5,
   "metadata": {},
   "outputs": [],
   "source": [
    "from sklearn.model_selection import train_test_split\n",
    "\n",
    "X = X.values # convert df to numpy-array\n",
    "y = y.values # convert df to numpy-array\n",
    "\n",
    "X_train, X_test, y_train, y_test = train_test_split(X, y, test_size=0.2, random_state=0)"
   ]
  },
  {
   "cell_type": "markdown",
   "metadata": {},
   "source": [
    "###  2. Model Training"
   ]
  },
  {
   "cell_type": "code",
   "execution_count": 6,
   "metadata": {},
   "outputs": [
    {
     "data": {
      "text/plain": [
       "<torch._C.Generator at 0x7fa51d871830>"
      ]
     },
     "execution_count": 6,
     "metadata": {},
     "output_type": "execute_result"
    }
   ],
   "source": [
    "import torch\n",
    "torch.manual_seed(0)"
   ]
  },
  {
   "cell_type": "code",
   "execution_count": 7,
   "metadata": {},
   "outputs": [
    {
     "name": "stdout",
     "output_type": "stream",
     "text": [
      "Using cpu device\n"
     ]
    }
   ],
   "source": [
    "device = \"cuda\" if torch.cuda.is_available() else \"cpu\"\n",
    "print(f\"Using {device} device\")"
   ]
  },
  {
   "cell_type": "code",
   "execution_count": 8,
   "metadata": {},
   "outputs": [],
   "source": [
    "train_x = torch.Tensor(X_train).float().to(device)\n",
    "test_x = torch.Tensor(X_test).float().to(device)\n",
    "train_y = torch.Tensor(y_train).long().to(device)\n",
    "test_y = torch.Tensor(y_test).long().to(device)"
   ]
  },
  {
   "cell_type": "code",
   "execution_count": 9,
   "metadata": {},
   "outputs": [],
   "source": [
    "import torch.nn as nn\n",
    "\n",
    "class DeepNeuralNetwork(nn.Module): # the class has to inherent from nn.Module\n",
    "    def __init__(self):\n",
    "        \n",
    "        super(DeepNeuralNetwork, self).__init__()  # calling super constructor\n",
    "        \n",
    "        # defining layers\n",
    "        self.hidden1 = nn.Linear(10, 15)\n",
    "        self.output = nn.Linear(15, 2)\n",
    "\n",
    "    def forward(self, x):\n",
    "        \n",
    "        x = self.hidden1(x)\n",
    "        x = torch.relu(x)\n",
    "        x = self.output(x)\n",
    "\n",
    "        return x"
   ]
  },
  {
   "cell_type": "code",
   "execution_count": 10,
   "metadata": {},
   "outputs": [
    {
     "name": "stdout",
     "output_type": "stream",
     "text": [
      "Loss in epoch 0 is 3.1980836391448975\n",
      "Loss in epoch 20 is 0.7244585156440735\n",
      "Loss in epoch 40 is 0.6581029891967773\n",
      "Loss in epoch 60 is 0.6459795236587524\n",
      "Loss in epoch 80 is 0.6381316184997559\n",
      "Loss in epoch 100 is 0.6319767832756042\n",
      "Loss in epoch 120 is 0.6269999742507935\n",
      "Loss in epoch 140 is 0.6227624416351318\n",
      "Loss in epoch 160 is 0.6191654205322266\n",
      "Loss in epoch 180 is 0.6161312460899353\n"
     ]
    }
   ],
   "source": [
    "import time\n",
    "\n",
    "dnn = DeepNeuralNetwork()\n",
    "dnn.to(device)            # copy the model to the device \n",
    "dnn.train()      # set model into training mode\n",
    "\n",
    "no_epochs = 200\n",
    "learning_rate = 0.001\n",
    "\n",
    "loss_func = nn.CrossEntropyLoss()  \n",
    "\n",
    "optimizer = torch.optim.SGD(dnn.parameters(), lr=learning_rate)\n",
    "\n",
    "start_time = time.time()\n",
    "losses = []\n",
    "for iteration in range(no_epochs):\n",
    "    \n",
    "    optimizer.zero_grad()\n",
    "    y_hat = dnn(train_x) # we predict on all data points (= batch gradient descent)\n",
    "    \n",
    "    loss = loss_func(y_hat, train_y) # calculate the loss\n",
    "    loss.backward() # backpropagate the loss to calculate gradients\n",
    "    optimizer.step() # update the weights using these gradients \n",
    "\n",
    "    losses.append(loss.item())\n",
    "    if iteration % 20 == 0:\n",
    "        print(f\"Loss in epoch {iteration} is {loss.item()}\")"
   ]
  },
  {
   "cell_type": "code",
   "execution_count": 11,
   "metadata": {},
   "outputs": [
    {
     "data": {
      "text/plain": [
       "Text(0, 0.5, 'loss')"
      ]
     },
     "execution_count": 11,
     "metadata": {},
     "output_type": "execute_result"
    },
    {
     "data": {
      "image/png": "[encoded data removed]",
      "text/plain": [
       "<Figure size 640x480 with 1 Axes>"
      ]
     },
     "metadata": {},
     "output_type": "display_data"
    }
   ],
   "source": [
    "import matplotlib.pyplot as plt\n",
    "fig = plt.figure()\n",
    "plt.plot(range(0, no_epochs), losses)\n",
    "plt.xlabel('number of epochs')\n",
    "plt.ylabel('loss')"
   ]
  },
  {
   "cell_type": "markdown",
   "metadata": {},
   "source": [
    "After the network is trained, we can use it to predict on the test data."
   ]
  },
  {
   "cell_type": "code",
   "execution_count": 12,
   "metadata": {},
   "outputs": [
    {
     "name": "stdout",
     "output_type": "stream",
     "text": [
      "Accuarcy is 66.43356643356644%\n"
     ]
    }
   ],
   "source": [
    "dnn.eval() # set network to evaluation mode\n",
    "y_pred = dnn(test_x)\n",
    "predicted = torch.argmax(y_pred.data, 1)\n",
    "correct = (predicted == test_y).sum().item()\n",
    "print(f\"Accuarcy is {100. * correct / len(test_x)}%\")"
   ]
  },
  {
   "cell_type": "markdown",
   "metadata": {},
   "source": [
    "### 3. Check for overfitting"
   ]
  },
  {
   "cell_type": "code",
   "execution_count": 13,
   "metadata": {},
   "outputs": [
    {
     "name": "stdout",
     "output_type": "stream",
     "text": [
      "Loss in epoch 0 is 2.623772382736206\n",
      "Loss in epoch 20 is 0.7293772101402283\n",
      "Loss in epoch 40 is 0.6793914437294006\n",
      "Loss in epoch 60 is 0.6425702571868896\n",
      "Loss in epoch 80 is 0.6233569383621216\n",
      "Loss in epoch 100 is 0.612875759601593\n",
      "Loss in epoch 120 is 0.6066220998764038\n",
      "Loss in epoch 140 is 0.6031623482704163\n",
      "Loss in epoch 160 is 0.6011450886726379\n",
      "Loss in epoch 180 is 0.5998067855834961\n"
     ]
    }
   ],
   "source": [
    "import time\n",
    "\n",
    "dnn = DeepNeuralNetwork()\n",
    "dnn.to(device)            # copy the model to the device \n",
    "dnn.train()      # set model into training mode\n",
    "\n",
    "no_epochs = 200\n",
    "learning_rate = 0.001\n",
    "\n",
    "loss_func = nn.CrossEntropyLoss()  \n",
    "\n",
    "optimizer = torch.optim.SGD(dnn.parameters(), lr=learning_rate)\n",
    "\n",
    "start_time = time.time()\n",
    "losses = []\n",
    "train_acc = []\n",
    "test_acc = []\n",
    "\n",
    "for iteration in range(no_epochs):\n",
    "    \n",
    "    optimizer.zero_grad()\n",
    "    y_hat = dnn(train_x) # we predict on all data points (= batch gradient descent)\n",
    "    \n",
    "    loss = loss_func(y_hat, train_y) # calculate the loss\n",
    "    loss.backward() # backpropagate the loss to calculate gradients\n",
    "    optimizer.step() # update the weights using these gradients \n",
    "\n",
    "    losses.append(loss.item())\n",
    "    \n",
    "    with torch.no_grad(): # temporarily deactivates autograd engine\n",
    "        \n",
    "        dnn.eval()\n",
    "        # accuracy on train\n",
    "        y_hat = dnn(train_x)\n",
    "        predicted = torch.argmax(y_hat.data, 1)\n",
    "        correct = (predicted == train_y).sum().item()\n",
    "        accuracy_train = 100. * correct / len(train_x)\n",
    "        train_acc.append(accuracy_train)\n",
    "        \n",
    "        # accuracy on test\n",
    "        y_hat = dnn(test_x)\n",
    "        predicted = torch.argmax(y_hat.data, 1)\n",
    "        correct = (predicted == test_y).sum().item()\n",
    "        accuracy_test = 100. * correct / len(test_x)\n",
    "        test_acc.append(accuracy_test)\n",
    "        \n",
    "        dnn.train() \n",
    "        \n",
    "    if iteration % 20 == 0:\n",
    "        print(f\"Loss in epoch {iteration} is {loss.item()}\")"
   ]
  },
  {
   "cell_type": "code",
   "execution_count": 14,
   "metadata": {},
   "outputs": [
    {
     "data": {
      "text/plain": [
       "<matplotlib.legend.Legend at 0x7fa505cfdd30>"
      ]
     },
     "execution_count": 14,
     "metadata": {},
     "output_type": "execute_result"
    },
    {
     "data": {
      "image/png": "[encoded data removed]",
      "text/plain": [
       "<Figure size 640x480 with 1 Axes>"
      ]
     },
     "metadata": {},
     "output_type": "display_data"
    }
   ],
   "source": [
    "plt.plot(train_acc, label= \"Training loss\")\n",
    "plt.plot(test_acc, label= \"Test loss\")\n",
    "plt.legend()"
   ]
  }
 ],
 "metadata": {
  "kernelspec": {
   "display_name": "Python 3 (ipykernel)",
   "language": "python",
   "name": "python3"
  },
  "language_info": {
   "codemirror_mode": {
    "name": "ipython",
    "version": 3
   },
   "file_extension": ".py",
   "mimetype": "text/x-python",
   "name": "python",
   "nbconvert_exporter": "python",
   "pygments_lexer": "ipython3",
   "version": "3.8.18"
  }
 },
 "nbformat": 4,
 "nbformat_minor": 4
}
