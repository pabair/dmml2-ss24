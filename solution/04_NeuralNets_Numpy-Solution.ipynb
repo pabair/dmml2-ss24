{
 "cells": [
  {
   "cell_type": "markdown",
   "metadata": {},
   "source": [
    "# 2. Neural Networks with Numpy"
   ]
  },
  {
   "cell_type": "markdown",
   "metadata": {},
   "source": [
    "In this notebook we will build our first neural network using only `numpy` as library."
   ]
  },
  {
   "cell_type": "markdown",
   "metadata": {},
   "source": [
    "We will work on the same dataset as last week and try to predict which digit is shown on the given pixel values."
   ]
  },
  {
   "cell_type": "code",
   "execution_count": 15,
   "metadata": {},
   "outputs": [],
   "source": [
    "from sklearn.datasets import fetch_openml\n",
    "X, y = fetch_openml('mnist_784', version=1, return_X_y=True, data_home=\"./data\", cache=True, parser='auto')"
   ]
  },
  {
   "cell_type": "markdown",
   "metadata": {},
   "source": [
    "We know already from last time how the data looks:"
   ]
  },
  {
   "cell_type": "code",
   "execution_count": 2,
   "metadata": {},
   "outputs": [
    {
     "data": {
      "text/html": [
       "<div>\n",
       "<style scoped>\n",
       "    .dataframe tbody tr th:only-of-type {\n",
       "        vertical-align: middle;\n",
       "    }\n",
       "\n",
       "    .dataframe tbody tr th {\n",
       "        vertical-align: top;\n",
       "    }\n",
       "\n",
       "    .dataframe thead th {\n",
       "        text-align: right;\n",
       "    }\n",
       "</style>\n",
       "<table border=\"1\" class=\"dataframe\">\n",
       "  <thead>\n",
       "    <tr style=\"text-align: right;\">\n",
       "      <th></th>\n",
       "      <th>pixel1</th>\n",
       "      <th>pixel2</th>\n",
       "      <th>pixel3</th>\n",
       "      <th>pixel4</th>\n",
       "      <th>pixel5</th>\n",
       "      <th>pixel6</th>\n",
       "      <th>pixel7</th>\n",
       "      <th>pixel8</th>\n",
       "      <th>pixel9</th>\n",
       "      <th>pixel10</th>\n",
       "      <th>...</th>\n",
       "      <th>pixel775</th>\n",
       "      <th>pixel776</th>\n",
       "      <th>pixel777</th>\n",
       "      <th>pixel778</th>\n",
       "      <th>pixel779</th>\n",
       "      <th>pixel780</th>\n",
       "      <th>pixel781</th>\n",
       "      <th>pixel782</th>\n",
       "      <th>pixel783</th>\n",
       "      <th>pixel784</th>\n",
       "    </tr>\n",
       "  </thead>\n",
       "  <tbody>\n",
       "    <tr>\n",
       "      <th>0</th>\n",
       "      <td>0.0</td>\n",
       "      <td>0.0</td>\n",
       "      <td>0.0</td>\n",
       "      <td>0.0</td>\n",
       "      <td>0.0</td>\n",
       "      <td>0.0</td>\n",
       "      <td>0.0</td>\n",
       "      <td>0.0</td>\n",
       "      <td>0.0</td>\n",
       "      <td>0.0</td>\n",
       "      <td>...</td>\n",
       "      <td>0.0</td>\n",
       "      <td>0.0</td>\n",
       "      <td>0.0</td>\n",
       "      <td>0.0</td>\n",
       "      <td>0.0</td>\n",
       "      <td>0.0</td>\n",
       "      <td>0.0</td>\n",
       "      <td>0.0</td>\n",
       "      <td>0.0</td>\n",
       "      <td>0.0</td>\n",
       "    </tr>\n",
       "    <tr>\n",
       "      <th>1</th>\n",
       "      <td>0.0</td>\n",
       "      <td>0.0</td>\n",
       "      <td>0.0</td>\n",
       "      <td>0.0</td>\n",
       "      <td>0.0</td>\n",
       "      <td>0.0</td>\n",
       "      <td>0.0</td>\n",
       "      <td>0.0</td>\n",
       "      <td>0.0</td>\n",
       "      <td>0.0</td>\n",
       "      <td>...</td>\n",
       "      <td>0.0</td>\n",
       "      <td>0.0</td>\n",
       "      <td>0.0</td>\n",
       "      <td>0.0</td>\n",
       "      <td>0.0</td>\n",
       "      <td>0.0</td>\n",
       "      <td>0.0</td>\n",
       "      <td>0.0</td>\n",
       "      <td>0.0</td>\n",
       "      <td>0.0</td>\n",
       "    </tr>\n",
       "    <tr>\n",
       "      <th>2</th>\n",
       "      <td>0.0</td>\n",
       "      <td>0.0</td>\n",
       "      <td>0.0</td>\n",
       "      <td>0.0</td>\n",
       "      <td>0.0</td>\n",
       "      <td>0.0</td>\n",
       "      <td>0.0</td>\n",
       "      <td>0.0</td>\n",
       "      <td>0.0</td>\n",
       "      <td>0.0</td>\n",
       "      <td>...</td>\n",
       "      <td>0.0</td>\n",
       "      <td>0.0</td>\n",
       "      <td>0.0</td>\n",
       "      <td>0.0</td>\n",
       "      <td>0.0</td>\n",
       "      <td>0.0</td>\n",
       "      <td>0.0</td>\n",
       "      <td>0.0</td>\n",
       "      <td>0.0</td>\n",
       "      <td>0.0</td>\n",
       "    </tr>\n",
       "  </tbody>\n",
       "</table>\n",
       "<p>3 rows × 784 columns</p>\n",
       "</div>"
      ],
      "text/plain": [
       "   pixel1  pixel2  pixel3  pixel4  pixel5  pixel6  pixel7  pixel8  pixel9  \\\n",
       "0     0.0     0.0     0.0     0.0     0.0     0.0     0.0     0.0     0.0   \n",
       "1     0.0     0.0     0.0     0.0     0.0     0.0     0.0     0.0     0.0   \n",
       "2     0.0     0.0     0.0     0.0     0.0     0.0     0.0     0.0     0.0   \n",
       "\n",
       "   pixel10  ...  pixel775  pixel776  pixel777  pixel778  pixel779  pixel780  \\\n",
       "0      0.0  ...       0.0       0.0       0.0       0.0       0.0       0.0   \n",
       "1      0.0  ...       0.0       0.0       0.0       0.0       0.0       0.0   \n",
       "2      0.0  ...       0.0       0.0       0.0       0.0       0.0       0.0   \n",
       "\n",
       "   pixel781  pixel782  pixel783  pixel784  \n",
       "0       0.0       0.0       0.0       0.0  \n",
       "1       0.0       0.0       0.0       0.0  \n",
       "2       0.0       0.0       0.0       0.0  \n",
       "\n",
       "[3 rows x 784 columns]"
      ]
     },
     "execution_count": 2,
     "metadata": {},
     "output_type": "execute_result"
    }
   ],
   "source": [
    "X.head(3)"
   ]
  },
  {
   "cell_type": "markdown",
   "metadata": {},
   "source": [
    "The label is a number between 0-9 representing the digit shown on the pixels."
   ]
  },
  {
   "cell_type": "code",
   "execution_count": 3,
   "metadata": {},
   "outputs": [
    {
     "data": {
      "text/plain": [
       "0    5\n",
       "1    0\n",
       "2    4\n",
       "Name: class, dtype: category\n",
       "Categories (10, object): ['0', '1', '2', '3', ..., '6', '7', '8', '9']"
      ]
     },
     "execution_count": 3,
     "metadata": {},
     "output_type": "execute_result"
    }
   ],
   "source": [
    "y.head(3)"
   ]
  },
  {
   "cell_type": "markdown",
   "metadata": {},
   "source": [
    "As we can see from above, the label is given as a digit. However, to calculate the loss function of the neural network, we need the label as a one-hot-encoded version, in which the label is encoded as `1` and the rest as `0`.\n",
    "\n",
    "For instance:\n",
    "- `3` -> `[0, 0, 0, 1, 0, 0, 0, 0, 0, 0]`\n",
    "- `9` -> `[0, 0, 0, 0, 0, 0, 0, 0, 0, 1]`\n",
    "\n",
    "This is done in the following:"
   ]
  },
  {
   "cell_type": "code",
   "execution_count": 4,
   "metadata": {},
   "outputs": [
    {
     "data": {
      "text/plain": [
       "array([[0., 0., 0., 0., 0., 1., 0., 0., 0., 0.],\n",
       "       [1., 0., 0., 0., 0., 0., 0., 0., 0., 0.],\n",
       "       [0., 0., 0., 0., 1., 0., 0., 0., 0., 0.],\n",
       "       [0., 1., 0., 0., 0., 0., 0., 0., 0., 0.],\n",
       "       [0., 0., 0., 0., 0., 0., 0., 0., 0., 1.]], dtype=float32)"
      ]
     },
     "execution_count": 4,
     "metadata": {},
     "output_type": "execute_result"
    }
   ],
   "source": [
    "import pandas as pd\n",
    "y_categorical = pd.get_dummies(y).astype('float32').values\n",
    "y_categorical[0:5]"
   ]
  },
  {
   "cell_type": "markdown",
   "metadata": {},
   "source": [
    "Before we start, we scale the data and divide it into train and test data:"
   ]
  },
  {
   "cell_type": "code",
   "execution_count": 5,
   "metadata": {},
   "outputs": [],
   "source": [
    "from sklearn.model_selection import train_test_split\n",
    "\n",
    "X_scaled = (X/255).astype('float32').values\n",
    "X_train, X_test, y_train, y_test = train_test_split(X_scaled, y_categorical, test_size=0.15, random_state=42)"
   ]
  },
  {
   "cell_type": "markdown",
   "metadata": {},
   "source": [
    "## Task 1: Implement the Forward pass"
   ]
  },
  {
   "cell_type": "markdown",
   "metadata": {},
   "source": [
    "We start with the following structure of a neural network with two hidden layers:\n",
    "- Input layer of size 784 with sigmoid activation\n",
    "- First hidden layer of size 128 with sigmoid activation\n",
    "- Second hidden layer of size 64 with sigmoid activation\n",
    "- Output layer of size 10 with softmax activation\n",
    "\n",
    "A skeleton code for this network is given in the following class. Your first task is to complete the method `forward_pass` to calculate the forward pass on one data point. After this class you can find a test to check whether your implementation is correct."
   ]
  },
  {
   "cell_type": "code",
   "execution_count": 6,
   "metadata": {},
   "outputs": [],
   "source": [
    "import time\n",
    "import numpy as np\n",
    "\n",
    "class DeepNeuralNetwork():\n",
    "    def __init__(self):\n",
    "        \n",
    "        # initialize weights randomly\n",
    "        np.random.seed(0)\n",
    "        self.w1 = np.random.randn(128, 784)\n",
    "        self.w2 = np.random.randn(64, 128)\n",
    "        self.w3 = np.random.randn(10, 64)\n",
    "\n",
    "    def forward_pass(self, x_train):\n",
    "        z1 = np.dot(self.w1, x_train)\n",
    "        a1 = 1/(1 + np.exp(-z1)) # sigmoid activation\n",
    "        z2 = np.dot(self.w2, a1)\n",
    "        a2 = 1/(1 + np.exp(-z2)) # sigmoid activation\n",
    "        z3 = np.dot(self.w3, a2)\n",
    "        a3 = np.exp(z3)/sum(np.exp(z3)) # softmax activation\n",
    "        \n",
    "        # we need to remember all values for backpropagation\n",
    "        self.fwdpass = [x_train, z1, a1, z2, a2, z3, a3]\n",
    "        \n",
    "        return a3\n",
    "    \n",
    "    \n",
    "    def backprop(self, y, y_hat):\n",
    "        # restore values from foward pass\n",
    "        a0, z1, a1, z2, a2, z3, a3 = self.fwdpass\n",
    "        \n",
    "        # Calculate W3 update\n",
    "        exps = np.exp(z3 - z3.max())\n",
    "        softmax_derivative = exps / np.sum(exps, axis=0) * (1 - exps / np.sum(exps, axis=0))\n",
    "        error = 2 * (y_hat - y) / y_hat.shape[0] * softmax_derivative\n",
    "        gradient_w3 = np.outer(error, a2)\n",
    "\n",
    "        # Calculate W2 update\n",
    "        sigmoid_derivative = (np.exp(-z2))/((np.exp(-z2)+1)**2)\n",
    "        error = np.dot(self.w3.T, error) * sigmoid_derivative\n",
    "        gradient_w2 = np.outer(error, a1)\n",
    "\n",
    "        # Calculate W1 update\n",
    "        sigmoid_derivative = (np.exp(-z1))/((np.exp(-z1)+1)**2)\n",
    "        error = np.dot(self.w2.T, error) * sigmoid_derivative\n",
    "        gradient_w1 = np.outer(error, a0)\n",
    "\n",
    "        return [gradient_w1, gradient_w2, gradient_w3]"
   ]
  },
  {
   "cell_type": "code",
   "execution_count": 7,
   "metadata": {},
   "outputs": [
    {
     "name": "stdout",
     "output_type": "stream",
     "text": [
      "The output of the last layer looks like this:\n",
      " [5.13892189e-02 4.31072252e-06 2.25095624e-08 4.20524030e-08\n",
      " 1.16018028e-09 3.04792788e-07 7.17666893e-05 1.95730962e-03\n",
      " 9.46575277e-01 1.74626318e-06]\n"
     ]
    },
    {
     "data": {
      "text/plain": [
       "True"
      ]
     },
     "execution_count": 7,
     "metadata": {},
     "output_type": "execute_result"
    }
   ],
   "source": [
    "# Test for task 1:\n",
    "dnn = DeepNeuralNetwork()\n",
    "\n",
    "# the network outputs a probability for every neuron in the last layer\n",
    "y_hat = dnn.forward_pass(X_train[0])\n",
    "print(\"The output of the last layer looks like this:\\n\", y_hat)\n",
    "\n",
    "# to check if the network works correctly, check if the following condition is True\n",
    "abs(y_hat[8] - 0.946) < 0.001"
   ]
  },
  {
   "cell_type": "code",
   "execution_count": 8,
   "metadata": {},
   "outputs": [
    {
     "name": "stdout",
     "output_type": "stream",
     "text": [
      "[5.13892189e-02 4.31072252e-06 2.25095624e-08 4.20524030e-08\n",
      " 1.16018028e-09 3.04792788e-07 7.17666893e-05 1.95730962e-03\n",
      " 9.46575277e-01 1.74626318e-06]\n"
     ]
    }
   ],
   "source": [
    "print(dnn.forward_pass(X_train[0]))"
   ]
  },
  {
   "cell_type": "markdown",
   "metadata": {},
   "source": [
    "### Task 2: Implement  the training procedure"
   ]
  },
  {
   "cell_type": "markdown",
   "metadata": {},
   "source": [
    "We can now start training the network by implementing the training procedure. We train the network for 10 epochs as shown in the code below.\n",
    "In each epoch we go over every data point `x` in `X_train` and:\n",
    "1. Calculate a forward pass on `x` as `y_hat`\n",
    "2. Calculate the gradients for the weight in w1, w2 and w3 using the `backprop` function of the network\n",
    "3. Update the weights w1, w2 and w3 of the network by moving into the negative direction of the gradient multiplied with the `learning_rate`\n",
    "4. Bonus: Calculate the cross-entropy-loss after each epoch and plot it in relation to the epochs.\n",
    "\n"
   ]
  },
  {
   "cell_type": "code",
   "execution_count": 9,
   "metadata": {},
   "outputs": [
    {
     "name": "stdout",
     "output_type": "stream",
     "text": [
      "Epoch: 1, Time: 19.0s, Loss: 161410\n",
      "Epoch: 2, Time: 36.7s, Loss: 102991\n",
      "Epoch: 3, Time: 54.6s, Loss: 80930\n",
      "Epoch: 4, Time: 73.1s, Loss: 66489\n",
      "Epoch: 5, Time: 91.7s, Loss: 57511\n",
      "Epoch: 6, Time: 110.2s, Loss: 51712\n",
      "Epoch: 7, Time: 131.6s, Loss: 47585\n",
      "Epoch: 8, Time: 153.1s, Loss: 44429\n",
      "Epoch: 9, Time: 172.8s, Loss: 41907\n",
      "Epoch: 10, Time: 191.8s, Loss: 39830\n"
     ]
    }
   ],
   "source": [
    "dnn = DeepNeuralNetwork()\n",
    "\n",
    "no_epochs = 10\n",
    "learning_rate = 0.01\n",
    "\n",
    "start_time = time.time()\n",
    "losses = []\n",
    "for iteration in range(no_epochs):\n",
    "    loss = 0\n",
    "    for x,y in zip(X_train, y_train):\n",
    "        y_hat = dnn.forward_pass(x)\n",
    "        gradients = dnn.backprop(y, y_hat)\n",
    "        \n",
    "        loss += -np.log(np.dot(y, y_hat))\n",
    "        \n",
    "        # one step stochastic gradient descent\n",
    "        dnn.w1 -= learning_rate * gradients[0]\n",
    "        dnn.w2 -= learning_rate * gradients[1]\n",
    "        dnn.w3 -= learning_rate * gradients[2]\n",
    "\n",
    "    print(f'Epoch: {iteration+1}, Time: {time.time() - start_time:.1f}s, Loss: {loss:.0f}')\n",
    "    losses.append(loss)"
   ]
  },
  {
   "cell_type": "code",
   "execution_count": 10,
   "metadata": {},
   "outputs": [
    {
     "data": {
      "text/plain": [
       "Text(0, 0.5, 'loss')"
      ]
     },
     "execution_count": 10,
     "metadata": {},
     "output_type": "execute_result"
    },
    {
     "data": {
      "image/png": "[encoded data removed]",
      "text/plain": [
       "<Figure size 640x480 with 1 Axes>"
      ]
     },
     "metadata": {},
     "output_type": "display_data"
    }
   ],
   "source": [
    "import matplotlib.pyplot as plt\n",
    "fig = plt.figure()\n",
    "plt.plot(range(0, no_epochs), losses)\n",
    "plt.xlabel('number of epochs')\n",
    "plt.ylabel('loss')"
   ]
  },
  {
   "cell_type": "markdown",
   "metadata": {},
   "source": [
    "### Task 3: Predict on the test data"
   ]
  },
  {
   "cell_type": "markdown",
   "metadata": {},
   "source": [
    "After the network is trained, we can use it to predict on the test data.\n",
    "\n",
    "__Task__: \n",
    "- Iterate over the test data and use the trained network the predict on every test data point.\n",
    "- Identify the index of the neuron which returned the highest probability.\n",
    "- Compare this value to the true label in the test data.\n",
    "- Compute the accuracy."
   ]
  },
  {
   "cell_type": "code",
   "execution_count": 11,
   "metadata": {
    "scrolled": true
   },
   "outputs": [
    {
     "name": "stdout",
     "output_type": "stream",
     "text": [
      "0.7936190476190477\n"
     ]
    }
   ],
   "source": [
    "predictions = []\n",
    "for x, y in zip(X_test, y_test):\n",
    "    output = dnn.forward_pass(x)\n",
    "    pred = np.argmax(output)\n",
    "    predictions.append(pred == np.argmax(y))\n",
    "accuracy = np.mean(predictions)\n",
    "print(accuracy)"
   ]
  },
  {
   "cell_type": "markdown",
   "metadata": {},
   "source": [
    "### Bonus Task:\n",
    "- Remove the first hidden layer. Train the network and check the performance on the test data."
   ]
  },
  {
   "cell_type": "code",
   "execution_count": 12,
   "metadata": {},
   "outputs": [],
   "source": [
    "import time\n",
    "import numpy as np\n",
    "\n",
    "class DeepNeuralNetworkSmall():\n",
    "    def __init__(self):\n",
    "        \n",
    "        # initialize weights randomly\n",
    "        np.random.seed(0)\n",
    "        self.w1 = np.random.randn(64, 784)\n",
    "        self.w2 = np.random.randn(10, 64)\n",
    "\n",
    "    def forward_pass(self, x_train):\n",
    "        z1 = np.dot(self.w1, x_train)\n",
    "        a1 = 1/(1 + np.exp(-z1)) # sigmoid activation\n",
    "        z2 = np.dot(self.w2, a1)\n",
    "        a2 = np.exp(z2)/sum(np.exp(z2)) # softmax activation\n",
    "        \n",
    "        # we need to remember all values for backpropagation\n",
    "        self.fwdpass = [x_train, z1, a1, z2, a2]\n",
    "        \n",
    "        return a2\n",
    "    \n",
    "    \n",
    "    def backprop(self, y, y_hat):\n",
    "        # restore values from foward pass\n",
    "        a0, z1, a1, z2, a2 = self.fwdpass\n",
    "        \n",
    "        # Calculate W2 update\n",
    "        exps = np.exp(z2 - z2.max())\n",
    "        softmax_derivative = exps / np.sum(exps, axis=0) * (1 - exps / np.sum(exps, axis=0))\n",
    "        error = 2 * (y_hat - y) / y_hat.shape[0] * softmax_derivative\n",
    "        gradient_w2 = np.outer(error, a1)\n",
    "\n",
    "        # Calculate W1 update\n",
    "        sigmoid_derivative = (np.exp(-z1))/((np.exp(-z1)+1)**2)\n",
    "        error = np.dot(self.w2.T, error) * sigmoid_derivative\n",
    "        gradient_w1 = np.outer(error, a0)\n",
    "\n",
    "        return [gradient_w1, gradient_w2]"
   ]
  },
  {
   "cell_type": "code",
   "execution_count": 13,
   "metadata": {},
   "outputs": [
    {
     "name": "stdout",
     "output_type": "stream",
     "text": [
      "Epoch: 1, Time: 10.3s, Loss: 237385\n",
      "Epoch: 2, Time: 20.0s, Loss: 130831\n",
      "Epoch: 3, Time: 30.0s, Loss: 99504\n",
      "Epoch: 4, Time: 39.4s, Loss: 79784\n",
      "Epoch: 5, Time: 49.5s, Loss: 66653\n",
      "Epoch: 6, Time: 59.3s, Loss: 57996\n",
      "Epoch: 7, Time: 69.3s, Loss: 52095\n",
      "Epoch: 8, Time: 79.5s, Loss: 47924\n",
      "Epoch: 9, Time: 90.0s, Loss: 44824\n",
      "Epoch: 10, Time: 102.1s, Loss: 42405\n"
     ]
    }
   ],
   "source": [
    "dnn = DeepNeuralNetworkSmall()\n",
    "\n",
    "no_epochs = 10\n",
    "learning_rate = 0.01\n",
    "\n",
    "start_time = time.time()\n",
    "losses = []\n",
    "for iteration in range(no_epochs):\n",
    "    loss = 0\n",
    "    for x,y in zip(X_train, y_train):\n",
    "        y_hat = dnn.forward_pass(x)\n",
    "        gradients = dnn.backprop(y, y_hat)\n",
    "        \n",
    "        loss += -np.log(np.dot(y, y_hat))\n",
    "        \n",
    "        # one step stochastic gradient descent\n",
    "        dnn.w1 -= learning_rate * gradients[0]\n",
    "        dnn.w2 -= learning_rate * gradients[1]\n",
    "\n",
    "    print(f'Epoch: {iteration+1}, Time: {time.time() - start_time:.1f}s, Loss: {loss:.0f}')\n",
    "    losses.append(loss)"
   ]
  },
  {
   "cell_type": "code",
   "execution_count": 14,
   "metadata": {},
   "outputs": [
    {
     "name": "stdout",
     "output_type": "stream",
     "text": [
      "0.7852380952380953\n"
     ]
    }
   ],
   "source": [
    "predictions = []\n",
    "for x, y in zip(X_test, y_test):\n",
    "    output = dnn.forward_pass(x)\n",
    "    pred = np.argmax(output)\n",
    "    predictions.append(pred == np.argmax(y))\n",
    "accuracy = np.mean(predictions)\n",
    "print(accuracy)"
   ]
  }
 ],
 "metadata": {
  "kernelspec": {
   "display_name": "Python 3 (ipykernel)",
   "language": "python",
   "name": "python3"
  },
  "language_info": {
   "codemirror_mode": {
    "name": "ipython",
    "version": 3
   },
   "file_extension": ".py",
   "mimetype": "text/x-python",
   "name": "python",
   "nbconvert_exporter": "python",
   "pygments_lexer": "ipython3",
   "version": "3.8.18"
  }
 },
 "nbformat": 4,
 "nbformat_minor": 4
}
