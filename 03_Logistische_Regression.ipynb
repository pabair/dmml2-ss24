{
 "cells": [
  {
   "cell_type": "markdown",
   "metadata": {},
   "source": [
    "# Praktische Übung 2: Logistische Regresssion"
   ]
  },
  {
   "cell_type": "markdown",
   "metadata": {},
   "source": [
    "## Der Titanic Datensatz\n",
    "\n",
    "\n",
    "Gegeben: Verschiedene Attribute zu den Passagieren auf der Titanic. <br>\n",
    "Frage: Hat der Passagier das Unglück überlebt?"
   ]
  },
  {
   "cell_type": "markdown",
   "metadata": {},
   "source": [
    "Da wir den Umgang mit kategorischen Features noch nicht eingeführt haben benutzen wir nur folgende Attribute: <br>\n",
    "- `Pclass`: Passenger cabin class (1 = 1st, 2 = 2nd, 3 = 3rd)\n",
    "- `Age`: Age of passenger\n",
    "- `SibSp`: Number of siblings/spouses aboard\n",
    "- `Parch`: Number of children/parents aboard\n",
    "- `Fare`: Passender Fare (brithish pound)\n",
    "- `Survived`: Did passenger survive? (0 = no, 1 = yes)"
   ]
  },
  {
   "cell_type": "markdown",
   "metadata": {},
   "source": [
    "## Aufgabe 1"
   ]
  },
  {
   "cell_type": "markdown",
   "metadata": {},
   "source": [
    "1. Laden Sie den Datensatz aus `titanic.csv` in einen Pandas DataFrame. Die Daten befinden sich im `/data` folder auf GitHub.\n",
    "2. Erstellen Sie einen neuen DataFrame, der nur die folgenden Spalten enthält: \"Survived\", \"Pclass\", \"Age\", \"Fare\", \"Sibsp\", \"Parch\"\n",
    "3. Entfernen Sie die leeren Felder aus dem DataFrame (d.h. Felder mit `NaN`-Werten) indem sie die Methode `dropna()` auf dem DataFrame aufrufen. <br>Zählen Sie wie viele Zeilen der DataFrame vor und nach dem Aufruf hat. "
   ]
  },
  {
   "cell_type": "markdown",
   "metadata": {},
   "source": [
    "## Aufgabe 2"
   ]
  },
  {
   "cell_type": "markdown",
   "metadata": {},
   "source": [
    "1. Unterteilen Sie den aus Aufgabe 1 entstandenen DataFrame mit Hilfe der Methode `train_test_split` in Trainings- und Testdaten. Nutzen Sie dabei zur besseren Vergleichbarkeit das Argument `random_state=0`.\n",
    "2. Trainieren Sie eine logistische Regression auf den Trainingsdaten mit \"Survived\" als Label. \n",
    "3. Machen Sie mit dem trainierten Model Vorhersagen auf den Testdaten und berechnen Sie:\n",
    "    - Accuracy (`~0.69`)\n",
    "    - Precision (`~0.72`)\n",
    "    - Recall (`~0.53`)"
   ]
  },
  {
   "cell_type": "markdown",
   "metadata": {},
   "source": [
    "## Aufgabe 3"
   ]
  },
  {
   "cell_type": "markdown",
   "metadata": {},
   "source": [
    "1. Fügen Sie nun das Geschlecht als weiteres Feature hinzu und führen Sie die Schritte aus Aufgabe 1 und 2 erneut aus (Hinweis: Schauen Sie im Notebook `0_Pandas_Intro` unter \"Adding new columns\" nach wie das geht). Beachten Sie dabei, dass Geschlecht kein numerischer Wert ist, d.h. Sie müssen daraus ein numerisches Feature erstellen. Beispiel: Feature \"isFemale\" hat den Wert 1  wenn Sex == \"female\", sonst 0. Hinweis: Python wandelt Booleans automatisch in Nummern um.\n",
    "2. In wie weit verbessert sich die Accuracy durch das neue Feature?\n",
    "3. Versuchen Sie nun auf ähnliche Weise die Spalte \"Embarked\" als Feature zu nutzen."
   ]
  },
  {
   "cell_type": "markdown",
   "metadata": {},
   "source": [
    "## Bonus"
   ]
  },
  {
   "cell_type": "markdown",
   "metadata": {},
   "source": [
    "Welches sind die wichtigsten und unwichtigsten Features des Modells fur die Vorhersage? "
   ]
  }
 ],
 "metadata": {
  "kernelspec": {
   "display_name": "Python 3 (ipykernel)",
   "language": "python",
   "name": "python3"
  },
  "language_info": {
   "codemirror_mode": {
    "name": "ipython",
    "version": 3
   },
   "file_extension": ".py",
   "mimetype": "text/x-python",
   "name": "python",
   "nbconvert_exporter": "python",
   "pygments_lexer": "ipython3",
   "version": "3.8.18"
  },
  "vscode": {
   "interpreter": {
    "hash": "b0fa6594d8f4cbf19f97940f81e996739fb7646882a419484c72d19e05852a7e"
   }
  }
 },
 "nbformat": 4,
 "nbformat_minor": 2
}
